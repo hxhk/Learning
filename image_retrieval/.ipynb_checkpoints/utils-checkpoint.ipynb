{
 "cells": [
  {
   "cell_type": "code",
   "execution_count": 6,
   "id": "flush-satellite",
   "metadata": {},
   "outputs": [],
   "source": [
    "import os"
   ]
  },
  {
   "cell_type": "code",
   "execution_count": 7,
   "id": "contrary-villa",
   "metadata": {},
   "outputs": [],
   "source": [
    "def load_data(path):\n",
    "    img_paths = []\n",
    "    img_labels = []\n",
    "    folder_lst = os.listdir(path)\n",
    "    for i, folder in enumerate(folder_lst):\n",
    "        folder_path = os.path.join(path, folder)\n",
    "        file_lst = os.listdir(folder_path)\n",
    "        for file in file_lst:\n",
    "            img_paths.append(os.path.join(folder_path, file))\n",
    "            img_labels.append(i)\n",
    "    return img_paths, img_labels"
   ]
  },
  {
   "cell_type": "code",
   "execution_count": null,
   "id": "cordless-pastor",
   "metadata": {},
   "outputs": [],
   "source": []
  },
  {
   "cell_type": "code",
   "execution_count": 8,
   "id": "fluid-organization",
   "metadata": {},
   "outputs": [],
   "source": [
    "img_paths = []\n",
    "img_labels = []\n",
    "path = \"bottle_data\\\\test\""
   ]
  },
  {
   "cell_type": "code",
   "execution_count": 9,
   "id": "white-journey",
   "metadata": {
    "scrolled": true
   },
   "outputs": [],
   "source": [
    "test_data, test_label = load_data(path)"
   ]
  },
  {
   "cell_type": "code",
   "execution_count": 10,
   "id": "final-directory",
   "metadata": {},
   "outputs": [
    {
     "data": {
      "text/plain": [
       "'bottle_data\\\\test\\\\农夫山泉\\\\012IMG_4245.JPG'"
      ]
     },
     "execution_count": 10,
     "metadata": {},
     "output_type": "execute_result"
    }
   ],
   "source": [
    "test_data[371]"
   ]
  },
  {
   "cell_type": "code",
   "execution_count": null,
   "id": "institutional-tourism",
   "metadata": {},
   "outputs": [],
   "source": []
  }
 ],
 "metadata": {
  "kernelspec": {
   "display_name": "Python 3",
   "language": "python",
   "name": "python3"
  },
  "language_info": {
   "codemirror_mode": {
    "name": "ipython",
    "version": 3
   },
   "file_extension": ".py",
   "mimetype": "text/x-python",
   "name": "python",
   "nbconvert_exporter": "python",
   "pygments_lexer": "ipython3",
   "version": "3.8.8"
  }
 },
 "nbformat": 4,
 "nbformat_minor": 5
}
