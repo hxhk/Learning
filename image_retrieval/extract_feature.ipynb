{
 "cells": [
  {
   "cell_type": "code",
   "execution_count": 1,
   "id": "physical-fairy",
   "metadata": {},
   "outputs": [],
   "source": [
    "%matplotlib widget"
   ]
  },
  {
   "cell_type": "code",
   "execution_count": 2,
   "id": "recovered-consent",
   "metadata": {},
   "outputs": [],
   "source": [
    "import torch\n",
    "import cv2\n",
    "import torchvision.models as models\n",
    "from PIL import Image\n",
    "import torch.nn as nn\n",
    "import numpy as np\n",
    "from torchvision import transforms\n",
    "transform = transforms.Compose([            #[1]\n",
    "# transforms.Resize((224, 224)),              #[2] 224 x 224\n",
    "# transforms.CenterCrop(224),                #[3] \n",
    " transforms.ToTensor(),                     #[4]\n",
    " transforms.Normalize(                      #[5]\n",
    " mean=[0.485, 0.456, 0.406],                #[6]\n",
    " std=[0.229, 0.224, 0.225]                  #[7]\n",
    " )])\n",
    "\n",
    "class FeatureExtractor(nn.Module):\n",
    "    def __init__(self, submodule, extracted_layers):\n",
    "        super(FeatureExtractor, self).__init__()\n",
    "        self.submodule = submodule\n",
    "        self.extracted_layers = extracted_layers\n",
    " \n",
    "    # 自己修改forward函数\n",
    "    def forward(self, x):\n",
    "        outputs = []\n",
    "        #print('forward')\n",
    "        for name, module in self.submodule._modules.items():\n",
    "            #print(x.shape)\n",
    "            #print(name)\n",
    "            #print(module)\n",
    "            if name == \"fc\":\n",
    "                x = x.view(x.size(0), -1)\n",
    "            x = module(x)\n",
    "            if name in self.extracted_layers:\n",
    "                outputs.append(x)\n",
    "        return outputs\n",
    "\n",
    "extract_list = [\"conv1\", \"layer1\", \"avgpool\", \"fc\"]"
   ]
  },
  {
   "cell_type": "code",
   "execution_count": 3,
   "id": "wound-month",
   "metadata": {},
   "outputs": [],
   "source": [
    "from  matplotlib import pyplot as plt\n",
    "import utils\n",
    "from tqdm import tqdm\n",
    "from scipy import spatial"
   ]
  },
  {
   "cell_type": "code",
   "execution_count": 4,
   "id": "scenic-disease",
   "metadata": {},
   "outputs": [
    {
     "data": {
      "application/vnd.jupyter.widget-view+json": {
       "model_id": "b1159759f6a2409d90a24eb854977875",
       "version_major": 2,
       "version_minor": 0
      },
      "text/plain": [
       "Canvas(toolbar=Toolbar(toolitems=[('Home', 'Reset original view', 'home', 'home'), ('Back', 'Back to previous …"
      ]
     },
     "metadata": {},
     "output_type": "display_data"
    },
    {
     "data": {
      "text/plain": [
       "<matplotlib.image.AxesImage at 0x17fff9035e0>"
      ]
     },
     "execution_count": 4,
     "metadata": {},
     "output_type": "execute_result"
    }
   ],
   "source": [
    "img = Image.open('bottle_data\\\\train\\\\PLUS100\\\\0P81031-144611.jpg')\n",
    "plt.imshow(img)"
   ]
  },
  {
   "cell_type": "code",
   "execution_count": 139,
   "id": "closed-cologne",
   "metadata": {},
   "outputs": [],
   "source": [
    "device = torch.device(\"cuda:0\" if torch.cuda.is_available() else \"cpu\")"
   ]
  },
  {
   "cell_type": "code",
   "execution_count": 3,
   "id": "parallel-hello",
   "metadata": {},
   "outputs": [
    {
     "data": {
      "text/plain": [
       "<All keys matched successfully>"
      ]
     },
     "execution_count": 3,
     "metadata": {},
     "output_type": "execute_result"
    }
   ],
   "source": [
    "#加载参数\n",
    "weights = torch.load('pretrained_model\\\\resnet101-5d3b4d8f.pth')\n",
    "#print(weights) \n",
    "#用参数加载模型\n",
    "net = models.resnet101(pretrained=False)\n",
    "net.load_state_dict(weights)"
   ]
  },
  {
   "cell_type": "code",
   "execution_count": 4,
   "id": "multiple-guess",
   "metadata": {},
   "outputs": [],
   "source": [
    "path = \"bottle_data\\\\train\""
   ]
  },
  {
   "cell_type": "code",
   "execution_count": 5,
   "id": "thermal-celebrity",
   "metadata": {},
   "outputs": [],
   "source": [
    "train_data, train_labels = utils.load_data(path)"
   ]
  },
  {
   "cell_type": "code",
   "execution_count": 130,
   "id": "substantial-islam",
   "metadata": {
    "scrolled": true
   },
   "outputs": [
    {
     "data": {
      "text/plain": [
       "195"
      ]
     },
     "execution_count": 130,
     "metadata": {},
     "output_type": "execute_result"
    }
   ],
   "source": [
    "len(train_data)"
   ]
  },
  {
   "cell_type": "code",
   "execution_count": 42,
   "id": "loose-belly",
   "metadata": {},
   "outputs": [],
   "source": [
    "img = Image.open(train_data[0])\n",
    "img_t = transform(img)\n",
    "batch_t = torch.unsqueeze(img_t, 0)\n",
    "result = extract_net(batch_t)\n",
    "feat_2048 = result[2].data.numpy()\n",
    "feat_2048 = np.squeeze(feat_2048)"
   ]
  },
  {
   "cell_type": "code",
   "execution_count": 43,
   "id": "friendly-nancy",
   "metadata": {},
   "outputs": [
    {
     "data": {
      "text/plain": [
       "array([0.48146126, 0.43384483, 0.18113558, ..., 0.18898724, 0.17340761,\n",
       "       0.33753178], dtype=float32)"
      ]
     },
     "execution_count": 43,
     "metadata": {},
     "output_type": "execute_result"
    }
   ],
   "source": [
    "feat_2048"
   ]
  },
  {
   "cell_type": "markdown",
   "id": "flying-poetry",
   "metadata": {},
   "source": [
    "# 提取特征"
   ]
  },
  {
   "cell_type": "code",
   "execution_count": 55,
   "id": "sunrise-lying",
   "metadata": {},
   "outputs": [],
   "source": [
    "def extract_feature(net, path):\n",
    "    img = Image.open(path)\n",
    "    img_t = transform(img)\n",
    "    batch_t = torch.unsqueeze(img_t, 0)\n",
    "    result = net(batch_t)\n",
    "    feat_2048 = result[2].data.numpy()\n",
    "    feat_2048 = np.squeeze(feat_2048)\n",
    "    return feat_2048"
   ]
  },
  {
   "cell_type": "code",
   "execution_count": 36,
   "id": "appreciated-david",
   "metadata": {},
   "outputs": [
    {
     "name": "stderr",
     "output_type": "stream",
     "text": [
      "100%|██████████| 195/195 [05:45<00:00,  1.77s/it]\n"
     ]
    }
   ],
   "source": [
    "extract_net = FeatureExtractor(net, extract_list)\n",
    "features = np.empty(2048)\n",
    "for file_path in tqdm(train_data):\n",
    "    img = Image.open(file_path)\n",
    "    img_t = transform(img)\n",
    "    batch_t = torch.unsqueeze(img_t, 0)\n",
    "    result = extract_net(batch_t)\n",
    "    feat_2048 = result[2].data.numpy()\n",
    "    feat_2048 = np.squeeze(feat_2048)\n",
    "    features = np.vstack((features,feat_2048))"
   ]
  },
  {
   "cell_type": "code",
   "execution_count": 50,
   "id": "piano-pregnancy",
   "metadata": {},
   "outputs": [],
   "source": [
    "arr = np.delete(features, 0, 0)"
   ]
  },
  {
   "cell_type": "code",
   "execution_count": 52,
   "id": "disabled-conditions",
   "metadata": {},
   "outputs": [
    {
     "data": {
      "text/plain": [
       "(195, 2048)"
      ]
     },
     "execution_count": 52,
     "metadata": {},
     "output_type": "execute_result"
    }
   ],
   "source": [
    "arr.shape"
   ]
  },
  {
   "cell_type": "markdown",
   "id": "plastic-woman",
   "metadata": {},
   "source": [
    "# 测试"
   ]
  },
  {
   "cell_type": "code",
   "execution_count": 123,
   "id": "developed-corporation",
   "metadata": {},
   "outputs": [],
   "source": [
    "test_path = \"bottle_data\\\\test\""
   ]
  },
  {
   "cell_type": "code",
   "execution_count": 124,
   "id": "superb-practice",
   "metadata": {},
   "outputs": [],
   "source": [
    "test_data, test_labels = utils.load_data(test_path)"
   ]
  },
  {
   "cell_type": "code",
   "execution_count": 126,
   "id": "certified-combination",
   "metadata": {},
   "outputs": [
    {
     "data": {
      "text/plain": [
       "2123"
      ]
     },
     "execution_count": 126,
     "metadata": {},
     "output_type": "execute_result"
    }
   ],
   "source": [
    "len(test_data)"
   ]
  },
  {
   "cell_type": "code",
   "execution_count": 125,
   "id": "great-utilization",
   "metadata": {
    "scrolled": true
   },
   "outputs": [
    {
     "ename": "KeyboardInterrupt",
     "evalue": "",
     "output_type": "error",
     "traceback": [
      "\u001b[1;31m---------------------------------------------------------------------------\u001b[0m",
      "\u001b[1;31mKeyboardInterrupt\u001b[0m                         Traceback (most recent call last)",
      "\u001b[1;32m<ipython-input-125-38a95b4feaaa>\u001b[0m in \u001b[0;36m<module>\u001b[1;34m\u001b[0m\n\u001b[0;32m      1\u001b[0m \u001b[0mcount\u001b[0m \u001b[1;33m=\u001b[0m \u001b[1;36m0\u001b[0m\u001b[1;33m\u001b[0m\u001b[1;33m\u001b[0m\u001b[0m\n\u001b[0;32m      2\u001b[0m \u001b[1;32mfor\u001b[0m \u001b[0mi\u001b[0m\u001b[1;33m,\u001b[0m \u001b[0mfile_path\u001b[0m \u001b[1;32min\u001b[0m \u001b[0menumerate\u001b[0m\u001b[1;33m(\u001b[0m\u001b[0mtest_data\u001b[0m\u001b[1;33m)\u001b[0m\u001b[1;33m:\u001b[0m\u001b[1;33m\u001b[0m\u001b[1;33m\u001b[0m\u001b[0m\n\u001b[1;32m----> 3\u001b[1;33m     \u001b[0mfeat_2048\u001b[0m \u001b[1;33m=\u001b[0m \u001b[0mextract_feature\u001b[0m\u001b[1;33m(\u001b[0m\u001b[0mextract_net\u001b[0m\u001b[1;33m,\u001b[0m \u001b[0mfile_path\u001b[0m\u001b[1;33m)\u001b[0m\u001b[1;33m\u001b[0m\u001b[1;33m\u001b[0m\u001b[0m\n\u001b[0m\u001b[0;32m      4\u001b[0m     \u001b[0mscores\u001b[0m \u001b[1;33m=\u001b[0m \u001b[0mcos_matrix_multiplication\u001b[0m\u001b[1;33m(\u001b[0m\u001b[0mfeat_2048\u001b[0m\u001b[1;33m,\u001b[0m \u001b[0marr\u001b[0m\u001b[1;33m)\u001b[0m\u001b[1;33m\u001b[0m\u001b[1;33m\u001b[0m\u001b[0m\n\u001b[0;32m      5\u001b[0m     \u001b[0my_pred\u001b[0m \u001b[1;33m=\u001b[0m \u001b[0mtrain_labels\u001b[0m\u001b[1;33m[\u001b[0m\u001b[0mnp\u001b[0m\u001b[1;33m.\u001b[0m\u001b[0margmin\u001b[0m\u001b[1;33m(\u001b[0m\u001b[0mscores\u001b[0m\u001b[1;33m)\u001b[0m\u001b[1;33m]\u001b[0m         \u001b[1;31m#预测种类\u001b[0m\u001b[1;33m\u001b[0m\u001b[1;33m\u001b[0m\u001b[0m\n",
      "\u001b[1;32m<ipython-input-55-9b0ac4a89928>\u001b[0m in \u001b[0;36mextract_feature\u001b[1;34m(net, path)\u001b[0m\n\u001b[0;32m      3\u001b[0m     \u001b[0mimg_t\u001b[0m \u001b[1;33m=\u001b[0m \u001b[0mtransform\u001b[0m\u001b[1;33m(\u001b[0m\u001b[0mimg\u001b[0m\u001b[1;33m)\u001b[0m\u001b[1;33m\u001b[0m\u001b[1;33m\u001b[0m\u001b[0m\n\u001b[0;32m      4\u001b[0m     \u001b[0mbatch_t\u001b[0m \u001b[1;33m=\u001b[0m \u001b[0mtorch\u001b[0m\u001b[1;33m.\u001b[0m\u001b[0munsqueeze\u001b[0m\u001b[1;33m(\u001b[0m\u001b[0mimg_t\u001b[0m\u001b[1;33m,\u001b[0m \u001b[1;36m0\u001b[0m\u001b[1;33m)\u001b[0m\u001b[1;33m\u001b[0m\u001b[1;33m\u001b[0m\u001b[0m\n\u001b[1;32m----> 5\u001b[1;33m     \u001b[0mresult\u001b[0m \u001b[1;33m=\u001b[0m \u001b[0mnet\u001b[0m\u001b[1;33m(\u001b[0m\u001b[0mbatch_t\u001b[0m\u001b[1;33m)\u001b[0m\u001b[1;33m\u001b[0m\u001b[1;33m\u001b[0m\u001b[0m\n\u001b[0m\u001b[0;32m      6\u001b[0m     \u001b[0mfeat_2048\u001b[0m \u001b[1;33m=\u001b[0m \u001b[0mresult\u001b[0m\u001b[1;33m[\u001b[0m\u001b[1;36m2\u001b[0m\u001b[1;33m]\u001b[0m\u001b[1;33m.\u001b[0m\u001b[0mdata\u001b[0m\u001b[1;33m.\u001b[0m\u001b[0mnumpy\u001b[0m\u001b[1;33m(\u001b[0m\u001b[1;33m)\u001b[0m\u001b[1;33m\u001b[0m\u001b[1;33m\u001b[0m\u001b[0m\n\u001b[0;32m      7\u001b[0m     \u001b[0mfeat_2048\u001b[0m \u001b[1;33m=\u001b[0m \u001b[0mnp\u001b[0m\u001b[1;33m.\u001b[0m\u001b[0msqueeze\u001b[0m\u001b[1;33m(\u001b[0m\u001b[0mfeat_2048\u001b[0m\u001b[1;33m)\u001b[0m\u001b[1;33m\u001b[0m\u001b[1;33m\u001b[0m\u001b[0m\n",
      "\u001b[1;32mD:\\Softwares\\IDE\\envs\\JupyterLab\\lib\\site-packages\\torch\\nn\\modules\\module.py\u001b[0m in \u001b[0;36m_call_impl\u001b[1;34m(self, *input, **kwargs)\u001b[0m\n\u001b[0;32m    887\u001b[0m             \u001b[0mresult\u001b[0m \u001b[1;33m=\u001b[0m \u001b[0mself\u001b[0m\u001b[1;33m.\u001b[0m\u001b[0m_slow_forward\u001b[0m\u001b[1;33m(\u001b[0m\u001b[1;33m*\u001b[0m\u001b[0minput\u001b[0m\u001b[1;33m,\u001b[0m \u001b[1;33m**\u001b[0m\u001b[0mkwargs\u001b[0m\u001b[1;33m)\u001b[0m\u001b[1;33m\u001b[0m\u001b[1;33m\u001b[0m\u001b[0m\n\u001b[0;32m    888\u001b[0m         \u001b[1;32melse\u001b[0m\u001b[1;33m:\u001b[0m\u001b[1;33m\u001b[0m\u001b[1;33m\u001b[0m\u001b[0m\n\u001b[1;32m--> 889\u001b[1;33m             \u001b[0mresult\u001b[0m \u001b[1;33m=\u001b[0m \u001b[0mself\u001b[0m\u001b[1;33m.\u001b[0m\u001b[0mforward\u001b[0m\u001b[1;33m(\u001b[0m\u001b[1;33m*\u001b[0m\u001b[0minput\u001b[0m\u001b[1;33m,\u001b[0m \u001b[1;33m**\u001b[0m\u001b[0mkwargs\u001b[0m\u001b[1;33m)\u001b[0m\u001b[1;33m\u001b[0m\u001b[1;33m\u001b[0m\u001b[0m\n\u001b[0m\u001b[0;32m    890\u001b[0m         for hook in itertools.chain(\n\u001b[0;32m    891\u001b[0m                 \u001b[0m_global_forward_hooks\u001b[0m\u001b[1;33m.\u001b[0m\u001b[0mvalues\u001b[0m\u001b[1;33m(\u001b[0m\u001b[1;33m)\u001b[0m\u001b[1;33m,\u001b[0m\u001b[1;33m\u001b[0m\u001b[1;33m\u001b[0m\u001b[0m\n",
      "\u001b[1;32m<ipython-input-35-40edc39fee81>\u001b[0m in \u001b[0;36mforward\u001b[1;34m(self, x)\u001b[0m\n\u001b[0;32m     31\u001b[0m             \u001b[1;32mif\u001b[0m \u001b[0mname\u001b[0m \u001b[1;33m==\u001b[0m \u001b[1;34m\"fc\"\u001b[0m\u001b[1;33m:\u001b[0m\u001b[1;33m\u001b[0m\u001b[1;33m\u001b[0m\u001b[0m\n\u001b[0;32m     32\u001b[0m                 \u001b[0mx\u001b[0m \u001b[1;33m=\u001b[0m \u001b[0mx\u001b[0m\u001b[1;33m.\u001b[0m\u001b[0mview\u001b[0m\u001b[1;33m(\u001b[0m\u001b[0mx\u001b[0m\u001b[1;33m.\u001b[0m\u001b[0msize\u001b[0m\u001b[1;33m(\u001b[0m\u001b[1;36m0\u001b[0m\u001b[1;33m)\u001b[0m\u001b[1;33m,\u001b[0m \u001b[1;33m-\u001b[0m\u001b[1;36m1\u001b[0m\u001b[1;33m)\u001b[0m\u001b[1;33m\u001b[0m\u001b[1;33m\u001b[0m\u001b[0m\n\u001b[1;32m---> 33\u001b[1;33m             \u001b[0mx\u001b[0m \u001b[1;33m=\u001b[0m \u001b[0mmodule\u001b[0m\u001b[1;33m(\u001b[0m\u001b[0mx\u001b[0m\u001b[1;33m)\u001b[0m\u001b[1;33m\u001b[0m\u001b[1;33m\u001b[0m\u001b[0m\n\u001b[0m\u001b[0;32m     34\u001b[0m             \u001b[1;32mif\u001b[0m \u001b[0mname\u001b[0m \u001b[1;32min\u001b[0m \u001b[0mself\u001b[0m\u001b[1;33m.\u001b[0m\u001b[0mextracted_layers\u001b[0m\u001b[1;33m:\u001b[0m\u001b[1;33m\u001b[0m\u001b[1;33m\u001b[0m\u001b[0m\n\u001b[0;32m     35\u001b[0m                 \u001b[0moutputs\u001b[0m\u001b[1;33m.\u001b[0m\u001b[0mappend\u001b[0m\u001b[1;33m(\u001b[0m\u001b[0mx\u001b[0m\u001b[1;33m)\u001b[0m\u001b[1;33m\u001b[0m\u001b[1;33m\u001b[0m\u001b[0m\n",
      "\u001b[1;32mD:\\Softwares\\IDE\\envs\\JupyterLab\\lib\\site-packages\\torch\\nn\\modules\\module.py\u001b[0m in \u001b[0;36m_call_impl\u001b[1;34m(self, *input, **kwargs)\u001b[0m\n\u001b[0;32m    887\u001b[0m             \u001b[0mresult\u001b[0m \u001b[1;33m=\u001b[0m \u001b[0mself\u001b[0m\u001b[1;33m.\u001b[0m\u001b[0m_slow_forward\u001b[0m\u001b[1;33m(\u001b[0m\u001b[1;33m*\u001b[0m\u001b[0minput\u001b[0m\u001b[1;33m,\u001b[0m \u001b[1;33m**\u001b[0m\u001b[0mkwargs\u001b[0m\u001b[1;33m)\u001b[0m\u001b[1;33m\u001b[0m\u001b[1;33m\u001b[0m\u001b[0m\n\u001b[0;32m    888\u001b[0m         \u001b[1;32melse\u001b[0m\u001b[1;33m:\u001b[0m\u001b[1;33m\u001b[0m\u001b[1;33m\u001b[0m\u001b[0m\n\u001b[1;32m--> 889\u001b[1;33m             \u001b[0mresult\u001b[0m \u001b[1;33m=\u001b[0m \u001b[0mself\u001b[0m\u001b[1;33m.\u001b[0m\u001b[0mforward\u001b[0m\u001b[1;33m(\u001b[0m\u001b[1;33m*\u001b[0m\u001b[0minput\u001b[0m\u001b[1;33m,\u001b[0m \u001b[1;33m**\u001b[0m\u001b[0mkwargs\u001b[0m\u001b[1;33m)\u001b[0m\u001b[1;33m\u001b[0m\u001b[1;33m\u001b[0m\u001b[0m\n\u001b[0m\u001b[0;32m    890\u001b[0m         for hook in itertools.chain(\n\u001b[0;32m    891\u001b[0m                 \u001b[0m_global_forward_hooks\u001b[0m\u001b[1;33m.\u001b[0m\u001b[0mvalues\u001b[0m\u001b[1;33m(\u001b[0m\u001b[1;33m)\u001b[0m\u001b[1;33m,\u001b[0m\u001b[1;33m\u001b[0m\u001b[1;33m\u001b[0m\u001b[0m\n",
      "\u001b[1;32mD:\\Softwares\\IDE\\envs\\JupyterLab\\lib\\site-packages\\torch\\nn\\modules\\container.py\u001b[0m in \u001b[0;36mforward\u001b[1;34m(self, input)\u001b[0m\n\u001b[0;32m    117\u001b[0m     \u001b[1;32mdef\u001b[0m \u001b[0mforward\u001b[0m\u001b[1;33m(\u001b[0m\u001b[0mself\u001b[0m\u001b[1;33m,\u001b[0m \u001b[0minput\u001b[0m\u001b[1;33m)\u001b[0m\u001b[1;33m:\u001b[0m\u001b[1;33m\u001b[0m\u001b[1;33m\u001b[0m\u001b[0m\n\u001b[0;32m    118\u001b[0m         \u001b[1;32mfor\u001b[0m \u001b[0mmodule\u001b[0m \u001b[1;32min\u001b[0m \u001b[0mself\u001b[0m\u001b[1;33m:\u001b[0m\u001b[1;33m\u001b[0m\u001b[1;33m\u001b[0m\u001b[0m\n\u001b[1;32m--> 119\u001b[1;33m             \u001b[0minput\u001b[0m \u001b[1;33m=\u001b[0m \u001b[0mmodule\u001b[0m\u001b[1;33m(\u001b[0m\u001b[0minput\u001b[0m\u001b[1;33m)\u001b[0m\u001b[1;33m\u001b[0m\u001b[1;33m\u001b[0m\u001b[0m\n\u001b[0m\u001b[0;32m    120\u001b[0m         \u001b[1;32mreturn\u001b[0m \u001b[0minput\u001b[0m\u001b[1;33m\u001b[0m\u001b[1;33m\u001b[0m\u001b[0m\n\u001b[0;32m    121\u001b[0m \u001b[1;33m\u001b[0m\u001b[0m\n",
      "\u001b[1;32mD:\\Softwares\\IDE\\envs\\JupyterLab\\lib\\site-packages\\torch\\nn\\modules\\module.py\u001b[0m in \u001b[0;36m_call_impl\u001b[1;34m(self, *input, **kwargs)\u001b[0m\n\u001b[0;32m    887\u001b[0m             \u001b[0mresult\u001b[0m \u001b[1;33m=\u001b[0m \u001b[0mself\u001b[0m\u001b[1;33m.\u001b[0m\u001b[0m_slow_forward\u001b[0m\u001b[1;33m(\u001b[0m\u001b[1;33m*\u001b[0m\u001b[0minput\u001b[0m\u001b[1;33m,\u001b[0m \u001b[1;33m**\u001b[0m\u001b[0mkwargs\u001b[0m\u001b[1;33m)\u001b[0m\u001b[1;33m\u001b[0m\u001b[1;33m\u001b[0m\u001b[0m\n\u001b[0;32m    888\u001b[0m         \u001b[1;32melse\u001b[0m\u001b[1;33m:\u001b[0m\u001b[1;33m\u001b[0m\u001b[1;33m\u001b[0m\u001b[0m\n\u001b[1;32m--> 889\u001b[1;33m             \u001b[0mresult\u001b[0m \u001b[1;33m=\u001b[0m \u001b[0mself\u001b[0m\u001b[1;33m.\u001b[0m\u001b[0mforward\u001b[0m\u001b[1;33m(\u001b[0m\u001b[1;33m*\u001b[0m\u001b[0minput\u001b[0m\u001b[1;33m,\u001b[0m \u001b[1;33m**\u001b[0m\u001b[0mkwargs\u001b[0m\u001b[1;33m)\u001b[0m\u001b[1;33m\u001b[0m\u001b[1;33m\u001b[0m\u001b[0m\n\u001b[0m\u001b[0;32m    890\u001b[0m         for hook in itertools.chain(\n\u001b[0;32m    891\u001b[0m                 \u001b[0m_global_forward_hooks\u001b[0m\u001b[1;33m.\u001b[0m\u001b[0mvalues\u001b[0m\u001b[1;33m(\u001b[0m\u001b[1;33m)\u001b[0m\u001b[1;33m,\u001b[0m\u001b[1;33m\u001b[0m\u001b[1;33m\u001b[0m\u001b[0m\n",
      "\u001b[1;32mD:\\Softwares\\IDE\\envs\\JupyterLab\\lib\\site-packages\\torchvision\\models\\resnet.py\u001b[0m in \u001b[0;36mforward\u001b[1;34m(self, x)\u001b[0m\n\u001b[0;32m    130\u001b[0m         \u001b[0mout\u001b[0m \u001b[1;33m=\u001b[0m \u001b[0mself\u001b[0m\u001b[1;33m.\u001b[0m\u001b[0mrelu\u001b[0m\u001b[1;33m(\u001b[0m\u001b[0mout\u001b[0m\u001b[1;33m)\u001b[0m\u001b[1;33m\u001b[0m\u001b[1;33m\u001b[0m\u001b[0m\n\u001b[0;32m    131\u001b[0m \u001b[1;33m\u001b[0m\u001b[0m\n\u001b[1;32m--> 132\u001b[1;33m         \u001b[0mout\u001b[0m \u001b[1;33m=\u001b[0m \u001b[0mself\u001b[0m\u001b[1;33m.\u001b[0m\u001b[0mconv3\u001b[0m\u001b[1;33m(\u001b[0m\u001b[0mout\u001b[0m\u001b[1;33m)\u001b[0m\u001b[1;33m\u001b[0m\u001b[1;33m\u001b[0m\u001b[0m\n\u001b[0m\u001b[0;32m    133\u001b[0m         \u001b[0mout\u001b[0m \u001b[1;33m=\u001b[0m \u001b[0mself\u001b[0m\u001b[1;33m.\u001b[0m\u001b[0mbn3\u001b[0m\u001b[1;33m(\u001b[0m\u001b[0mout\u001b[0m\u001b[1;33m)\u001b[0m\u001b[1;33m\u001b[0m\u001b[1;33m\u001b[0m\u001b[0m\n\u001b[0;32m    134\u001b[0m \u001b[1;33m\u001b[0m\u001b[0m\n",
      "\u001b[1;32mD:\\Softwares\\IDE\\envs\\JupyterLab\\lib\\site-packages\\torch\\nn\\modules\\module.py\u001b[0m in \u001b[0;36m_call_impl\u001b[1;34m(self, *input, **kwargs)\u001b[0m\n\u001b[0;32m    887\u001b[0m             \u001b[0mresult\u001b[0m \u001b[1;33m=\u001b[0m \u001b[0mself\u001b[0m\u001b[1;33m.\u001b[0m\u001b[0m_slow_forward\u001b[0m\u001b[1;33m(\u001b[0m\u001b[1;33m*\u001b[0m\u001b[0minput\u001b[0m\u001b[1;33m,\u001b[0m \u001b[1;33m**\u001b[0m\u001b[0mkwargs\u001b[0m\u001b[1;33m)\u001b[0m\u001b[1;33m\u001b[0m\u001b[1;33m\u001b[0m\u001b[0m\n\u001b[0;32m    888\u001b[0m         \u001b[1;32melse\u001b[0m\u001b[1;33m:\u001b[0m\u001b[1;33m\u001b[0m\u001b[1;33m\u001b[0m\u001b[0m\n\u001b[1;32m--> 889\u001b[1;33m             \u001b[0mresult\u001b[0m \u001b[1;33m=\u001b[0m \u001b[0mself\u001b[0m\u001b[1;33m.\u001b[0m\u001b[0mforward\u001b[0m\u001b[1;33m(\u001b[0m\u001b[1;33m*\u001b[0m\u001b[0minput\u001b[0m\u001b[1;33m,\u001b[0m \u001b[1;33m**\u001b[0m\u001b[0mkwargs\u001b[0m\u001b[1;33m)\u001b[0m\u001b[1;33m\u001b[0m\u001b[1;33m\u001b[0m\u001b[0m\n\u001b[0m\u001b[0;32m    890\u001b[0m         for hook in itertools.chain(\n\u001b[0;32m    891\u001b[0m                 \u001b[0m_global_forward_hooks\u001b[0m\u001b[1;33m.\u001b[0m\u001b[0mvalues\u001b[0m\u001b[1;33m(\u001b[0m\u001b[1;33m)\u001b[0m\u001b[1;33m,\u001b[0m\u001b[1;33m\u001b[0m\u001b[1;33m\u001b[0m\u001b[0m\n",
      "\u001b[1;32mD:\\Softwares\\IDE\\envs\\JupyterLab\\lib\\site-packages\\torch\\nn\\modules\\conv.py\u001b[0m in \u001b[0;36mforward\u001b[1;34m(self, input)\u001b[0m\n\u001b[0;32m    397\u001b[0m \u001b[1;33m\u001b[0m\u001b[0m\n\u001b[0;32m    398\u001b[0m     \u001b[1;32mdef\u001b[0m \u001b[0mforward\u001b[0m\u001b[1;33m(\u001b[0m\u001b[0mself\u001b[0m\u001b[1;33m,\u001b[0m \u001b[0minput\u001b[0m\u001b[1;33m:\u001b[0m \u001b[0mTensor\u001b[0m\u001b[1;33m)\u001b[0m \u001b[1;33m->\u001b[0m \u001b[0mTensor\u001b[0m\u001b[1;33m:\u001b[0m\u001b[1;33m\u001b[0m\u001b[1;33m\u001b[0m\u001b[0m\n\u001b[1;32m--> 399\u001b[1;33m         \u001b[1;32mreturn\u001b[0m \u001b[0mself\u001b[0m\u001b[1;33m.\u001b[0m\u001b[0m_conv_forward\u001b[0m\u001b[1;33m(\u001b[0m\u001b[0minput\u001b[0m\u001b[1;33m,\u001b[0m \u001b[0mself\u001b[0m\u001b[1;33m.\u001b[0m\u001b[0mweight\u001b[0m\u001b[1;33m,\u001b[0m \u001b[0mself\u001b[0m\u001b[1;33m.\u001b[0m\u001b[0mbias\u001b[0m\u001b[1;33m)\u001b[0m\u001b[1;33m\u001b[0m\u001b[1;33m\u001b[0m\u001b[0m\n\u001b[0m\u001b[0;32m    400\u001b[0m \u001b[1;33m\u001b[0m\u001b[0m\n\u001b[0;32m    401\u001b[0m \u001b[1;32mclass\u001b[0m \u001b[0mConv3d\u001b[0m\u001b[1;33m(\u001b[0m\u001b[0m_ConvNd\u001b[0m\u001b[1;33m)\u001b[0m\u001b[1;33m:\u001b[0m\u001b[1;33m\u001b[0m\u001b[1;33m\u001b[0m\u001b[0m\n",
      "\u001b[1;32mD:\\Softwares\\IDE\\envs\\JupyterLab\\lib\\site-packages\\torch\\nn\\modules\\conv.py\u001b[0m in \u001b[0;36m_conv_forward\u001b[1;34m(self, input, weight, bias)\u001b[0m\n\u001b[0;32m    393\u001b[0m                             \u001b[0mweight\u001b[0m\u001b[1;33m,\u001b[0m \u001b[0mbias\u001b[0m\u001b[1;33m,\u001b[0m \u001b[0mself\u001b[0m\u001b[1;33m.\u001b[0m\u001b[0mstride\u001b[0m\u001b[1;33m,\u001b[0m\u001b[1;33m\u001b[0m\u001b[1;33m\u001b[0m\u001b[0m\n\u001b[0;32m    394\u001b[0m                             _pair(0), self.dilation, self.groups)\n\u001b[1;32m--> 395\u001b[1;33m         return F.conv2d(input, weight, bias, self.stride,\n\u001b[0m\u001b[0;32m    396\u001b[0m                         self.padding, self.dilation, self.groups)\n\u001b[0;32m    397\u001b[0m \u001b[1;33m\u001b[0m\u001b[0m\n",
      "\u001b[1;31mKeyboardInterrupt\u001b[0m: "
     ]
    }
   ],
   "source": [
    "count = 0\n",
    "for i, file_path in enumerate(test_data):\n",
    "    feat_2048 = extract_feature(extract_net, file_path)\n",
    "    scores = cos_matrix_multiplication(feat_2048, arr)\n",
    "    y_pred = train_labels[np.argmin(scores)]         #预测种类\n",
    "    y = test_labels[i]               #实际\n",
    "    #print(i,\" y_pred:\",y_pred,\" y:\", y,\"count:\",count)\n",
    "    if y == y_pred:\n",
    "        count += 1\n",
    "print(\"ACC:\", count/len(test_data))"
   ]
  },
  {
   "cell_type": "code",
   "execution_count": 128,
   "id": "asian-brown",
   "metadata": {
    "scrolled": true
   },
   "outputs": [
    {
     "name": "stderr",
     "output_type": "stream",
     "text": [
      "100%|██████████| 2123/2123 [52:08<00:00,  1.47s/it] "
     ]
    },
    {
     "name": "stdout",
     "output_type": "stream",
     "text": [
      "ACC: 0.916156382477626\n"
     ]
    },
    {
     "name": "stderr",
     "output_type": "stream",
     "text": [
      "\n"
     ]
    }
   ],
   "source": [
    "count = 0 \n",
    "for i in tqdm(range(2123)):\n",
    "    feat_2048 = extract_feature(extract_net, test_data[i])\n",
    "    scores = cos_matrix_multiplication(feat_2048, arr)\n",
    "    y_pred = train_labels[np.argmin(scores)]         #预测种类\n",
    "    y = test_labels[i]               #实际\n",
    "    if y == y_pred:\n",
    "        count += 1\n",
    "    #else:\n",
    "        #print(i,\" y_pred:\",y_pred,\" y:\", y,\"count:\",count)\n",
    "print(\"ACC:\", count/len(test_data))"
   ]
  },
  {
   "cell_type": "code",
   "execution_count": 129,
   "id": "expired-allocation",
   "metadata": {},
   "outputs": [
    {
     "data": {
      "text/plain": [
       "1945"
      ]
     },
     "execution_count": 129,
     "metadata": {},
     "output_type": "execute_result"
    }
   ],
   "source": [
    "count"
   ]
  },
  {
   "cell_type": "code",
   "execution_count": 56,
   "id": "composite-proposition",
   "metadata": {},
   "outputs": [],
   "source": [
    "test_feature = extract_feature(extract_net, \"cola.jpg\")"
   ]
  },
  {
   "cell_type": "code",
   "execution_count": 57,
   "id": "ahead-inside",
   "metadata": {},
   "outputs": [
    {
     "data": {
      "text/plain": [
       "(2048,)"
      ]
     },
     "execution_count": 57,
     "metadata": {},
     "output_type": "execute_result"
    }
   ],
   "source": [
    "test_feature"
   ]
  },
  {
   "cell_type": "code",
   "execution_count": 109,
   "id": "communist-oakland",
   "metadata": {},
   "outputs": [],
   "source": [
    "def cos_matrix_multiplication(vector,matrix_1): #余弦相似度\n",
    "    v = vector.reshape(1, -1)\n",
    "    scores1 = spatial.distance.cdist(matrix_1, v, 'cosine')\n",
    "    return(scores1)"
   ]
  },
  {
   "cell_type": "code",
   "execution_count": 98,
   "id": "working-place",
   "metadata": {},
   "outputs": [
    {
     "name": "stdout",
     "output_type": "stream",
     "text": [
      "(1, 2048)\n",
      "[[0.23040552 0.14949879 0.31434727 ... 0.13502939 0.1032001  0.12969452]]\n",
      "(195, 2048)\n",
      "[0.48146126 0.43384483 0.18113558 ... 0.18898724 0.17340761 0.33753178]\n",
      "(195, 1)\n"
     ]
    }
   ],
   "source": [
    "scores = cos_matrix_multiplication(test_feature, arr)"
   ]
  },
  {
   "cell_type": "code",
   "execution_count": 99,
   "id": "southeast-steps",
   "metadata": {},
   "outputs": [
    {
     "data": {
      "text/plain": [
       "64"
      ]
     },
     "execution_count": 99,
     "metadata": {},
     "output_type": "execute_result"
    }
   ],
   "source": [
    "np.argmin(scores)"
   ]
  },
  {
   "cell_type": "code",
   "execution_count": 131,
   "id": "fatal-donor",
   "metadata": {
    "scrolled": true
   },
   "outputs": [
    {
     "data": {
      "text/plain": [
       "['bottle_data\\\\train\\\\PLUS100\\\\0IMG_20181029_143606.jpg',\n",
       " 'bottle_data\\\\train\\\\PLUS100\\\\0IMG_20181029_144514.jpg',\n",
       " 'bottle_data\\\\train\\\\PLUS100\\\\0P81031-144611.jpg',\n",
       " 'bottle_data\\\\train\\\\PLUS100\\\\0P81031-144924.jpg',\n",
       " 'bottle_data\\\\train\\\\PLUS100\\\\3P81031-144921.jpg',\n",
       " 'bottle_data\\\\train\\\\东方树叶乌龙茶\\\\0IMG_4310.JPG',\n",
       " 'bottle_data\\\\train\\\\东方树叶乌龙茶\\\\0P81031-142900.jpg',\n",
       " 'bottle_data\\\\train\\\\东方树叶乌龙茶\\\\0P81031-142945.jpg',\n",
       " 'bottle_data\\\\train\\\\东方树叶乌龙茶\\\\0P81031-143001.jpg',\n",
       " 'bottle_data\\\\train\\\\东方树叶乌龙茶\\\\0P81031-143143.jpg',\n",
       " 'bottle_data\\\\train\\\\东鹏特饮\\\\0IMG_4057.JPG',\n",
       " 'bottle_data\\\\train\\\\东鹏特饮\\\\0IMG_4077.JPG',\n",
       " 'bottle_data\\\\train\\\\东鹏特饮\\\\0P81029-143702.jpg',\n",
       " 'bottle_data\\\\train\\\\东鹏特饮\\\\0P81029-143858.jpg',\n",
       " 'bottle_data\\\\train\\\\东鹏特饮\\\\0P81029-143903.jpg',\n",
       " 'bottle_data\\\\train\\\\优益C\\\\0IMG_4750.JPG',\n",
       " 'bottle_data\\\\train\\\\优益C\\\\0P81029-152206.jpg',\n",
       " 'bottle_data\\\\train\\\\优益C\\\\0P81029-152231.jpg',\n",
       " 'bottle_data\\\\train\\\\优益C\\\\0P81029-152235.jpg',\n",
       " 'bottle_data\\\\train\\\\优益C\\\\1IMG_4761.JPG',\n",
       " 'bottle_data\\\\train\\\\佳得乐\\\\0IMG_3131.JPG',\n",
       " 'bottle_data\\\\train\\\\佳得乐\\\\0IMG_3172.JPG',\n",
       " 'bottle_data\\\\train\\\\佳得乐\\\\0IMG_3189.JPG',\n",
       " 'bottle_data\\\\train\\\\佳得乐\\\\1IMG_3140.JPG',\n",
       " 'bottle_data\\\\train\\\\佳得乐\\\\1IMG_3142.JPG',\n",
       " 'bottle_data\\\\train\\\\农夫山泉\\\\0IMG_4243.JPG',\n",
       " 'bottle_data\\\\train\\\\农夫山泉\\\\0IMG_4248.JPG',\n",
       " 'bottle_data\\\\train\\\\农夫山泉\\\\0IMG_4250.JPG',\n",
       " 'bottle_data\\\\train\\\\农夫山泉\\\\0IMG_4267.JPG',\n",
       " 'bottle_data\\\\train\\\\农夫山泉\\\\0IMG_4268.JPG',\n",
       " 'bottle_data\\\\train\\\\农夫山泉小瓶\\\\test1.jpg',\n",
       " 'bottle_data\\\\train\\\\农夫山泉小瓶\\\\test2.jpg',\n",
       " 'bottle_data\\\\train\\\\农夫山泉小瓶\\\\test3.jpg',\n",
       " 'bottle_data\\\\train\\\\农夫山泉小瓶\\\\test4.jpg',\n",
       " 'bottle_data\\\\train\\\\农夫山泉小瓶\\\\test5.jpg',\n",
       " 'bottle_data\\\\train\\\\农夫果园\\\\0IMG_20181031_142154.jpg',\n",
       " 'bottle_data\\\\train\\\\农夫果园\\\\0IMG_20181031_145925.jpg',\n",
       " 'bottle_data\\\\train\\\\农夫果园\\\\0IMG_20181031_150130.jpg',\n",
       " 'bottle_data\\\\train\\\\农夫果园\\\\0IMG_20181031_150136.jpg',\n",
       " 'bottle_data\\\\train\\\\农夫果园\\\\0IMG_20181031_150146.jpg',\n",
       " 'bottle_data\\\\train\\\\冰锐-粉\\\\0IMG_4438.JPG',\n",
       " 'bottle_data\\\\train\\\\冰锐-粉\\\\0IMG_4439.JPG',\n",
       " 'bottle_data\\\\train\\\\冰锐-粉\\\\0IMG_4440.JPG',\n",
       " 'bottle_data\\\\train\\\\冰锐-粉\\\\0IMG_4441.JPG',\n",
       " 'bottle_data\\\\train\\\\冰锐-粉\\\\0IMG_4442.JPG',\n",
       " 'bottle_data\\\\train\\\\冰锐-紫\\\\0IMG_4870.JPG',\n",
       " 'bottle_data\\\\train\\\\冰锐-紫\\\\0IMG_4871.JPG',\n",
       " 'bottle_data\\\\train\\\\冰锐-紫\\\\0IMG_4872.JPG',\n",
       " 'bottle_data\\\\train\\\\冰锐-紫\\\\0IMG_4876.JPG',\n",
       " 'bottle_data\\\\train\\\\冰锐-紫\\\\0IMG_4877.JPG',\n",
       " 'bottle_data\\\\train\\\\加多宝瓶装\\\\0IMG_3839.JPG',\n",
       " 'bottle_data\\\\train\\\\加多宝瓶装\\\\0IMG_3842.JPG',\n",
       " 'bottle_data\\\\train\\\\加多宝瓶装\\\\0IMG_3844.JPG',\n",
       " 'bottle_data\\\\train\\\\加多宝瓶装\\\\0IMG_3847.JPG',\n",
       " 'bottle_data\\\\train\\\\加多宝瓶装\\\\0IMG_3848.JPG',\n",
       " 'bottle_data\\\\train\\\\可口可乐mini\\\\0IMG_20181029_145244.jpg',\n",
       " 'bottle_data\\\\train\\\\可口可乐mini\\\\0IMG_20181029_145251.jpg',\n",
       " 'bottle_data\\\\train\\\\可口可乐mini\\\\0IMG_4117.JPG',\n",
       " 'bottle_data\\\\train\\\\可口可乐mini\\\\0IMG_4121.JPG',\n",
       " 'bottle_data\\\\train\\\\可口可乐mini\\\\0IMG_4139.JPG',\n",
       " 'bottle_data\\\\train\\\\可口可乐瓶装\\\\0IMG_20181029_143255.jpg',\n",
       " 'bottle_data\\\\train\\\\可口可乐瓶装\\\\0IMG_20181029_143256.jpg',\n",
       " 'bottle_data\\\\train\\\\可口可乐瓶装\\\\0IMG_20181029_143314.jpg',\n",
       " 'bottle_data\\\\train\\\\可口可乐瓶装\\\\0IMG_20181029_143332.jpg',\n",
       " 'bottle_data\\\\train\\\\可口可乐瓶装\\\\0IMG_20181029_143416.jpg',\n",
       " 'bottle_data\\\\train\\\\可口可乐零度\\\\0IMG_4390.JPG',\n",
       " 'bottle_data\\\\train\\\\可口可乐零度\\\\0IMG_4391.JPG',\n",
       " 'bottle_data\\\\train\\\\可口可乐零度\\\\0IMG_4392.JPG',\n",
       " 'bottle_data\\\\train\\\\可口可乐零度\\\\0IMG_4396.JPG',\n",
       " 'bottle_data\\\\train\\\\可口可乐零度\\\\0IMG_4407.JPG',\n",
       " 'bottle_data\\\\train\\\\娃哈哈AD钙奶\\\\0IMG_20181031_142908.jpg',\n",
       " 'bottle_data\\\\train\\\\娃哈哈AD钙奶\\\\0IMG_20181031_142911.jpg',\n",
       " 'bottle_data\\\\train\\\\娃哈哈AD钙奶\\\\0IMG_20181031_151152.jpg',\n",
       " 'bottle_data\\\\train\\\\娃哈哈AD钙奶\\\\0IMG_20181031_151302.jpg',\n",
       " 'bottle_data\\\\train\\\\娃哈哈AD钙奶\\\\0P81029-151506.jpg',\n",
       " 'bottle_data\\\\train\\\\小明同学-青\\\\0IMG_20181031_143344.jpg',\n",
       " 'bottle_data\\\\train\\\\小明同学-青\\\\0IMG_4962.JPG',\n",
       " 'bottle_data\\\\train\\\\小明同学-青\\\\0IMG_4964.JPG',\n",
       " 'bottle_data\\\\train\\\\小明同学-青\\\\0IMG_4968.JPG',\n",
       " 'bottle_data\\\\train\\\\小明同学-青\\\\0IMG_4979.JPG',\n",
       " 'bottle_data\\\\train\\\\小明同学-黄\\\\0IMG_3536.JPG',\n",
       " 'bottle_data\\\\train\\\\小明同学-黄\\\\0IMG_3537.JPG',\n",
       " 'bottle_data\\\\train\\\\小明同学-黄\\\\0IMG_3540.JPG',\n",
       " 'bottle_data\\\\train\\\\小明同学-黄\\\\0IMG_3551.JPG',\n",
       " 'bottle_data\\\\train\\\\小明同学-黄\\\\0IMG_3562.JPG',\n",
       " 'bottle_data\\\\train\\\\尖叫\\\\0IMG_20181029_144622.jpg',\n",
       " 'bottle_data\\\\train\\\\尖叫\\\\0IMG_20181029_144647.jpg',\n",
       " 'bottle_data\\\\train\\\\尖叫\\\\0IMG_20181029_144724.jpg',\n",
       " 'bottle_data\\\\train\\\\尖叫\\\\0IMG_20181029_144808.jpg',\n",
       " 'bottle_data\\\\train\\\\尖叫\\\\0IMG_20181029_144813.jpg',\n",
       " 'bottle_data\\\\train\\\\康师傅冰红茶\\\\0IMG_20181029_141122.jpg',\n",
       " 'bottle_data\\\\train\\\\康师傅冰红茶\\\\0IMG_20181029_142200.jpg',\n",
       " 'bottle_data\\\\train\\\\康师傅冰红茶\\\\0IMG_20181031_143425.jpg',\n",
       " 'bottle_data\\\\train\\\\康师傅冰红茶\\\\0IMG_20181031_143629.jpg',\n",
       " 'bottle_data\\\\train\\\\康师傅冰红茶\\\\0IMG_4582.JPG',\n",
       " 'bottle_data\\\\train\\\\怡宝\\\\0IMG_20181029_145136.jpg',\n",
       " 'bottle_data\\\\train\\\\怡宝\\\\0IMG_20181029_145159.jpg',\n",
       " 'bottle_data\\\\train\\\\怡宝\\\\0IMG_20181029_145202.jpg',\n",
       " 'bottle_data\\\\train\\\\怡宝\\\\0IMG_4210.JPG',\n",
       " 'bottle_data\\\\train\\\\怡宝\\\\1IMG_20181029_145158.jpg',\n",
       " 'bottle_data\\\\train\\\\恒大冰泉\\\\0IMG_20181029_143953.jpg',\n",
       " 'bottle_data\\\\train\\\\恒大冰泉\\\\0IMG_20181029_144033.jpg',\n",
       " 'bottle_data\\\\train\\\\恒大冰泉\\\\0IMG_20181029_144116.jpg',\n",
       " 'bottle_data\\\\train\\\\恒大冰泉\\\\0IMG_20181029_144124.jpg',\n",
       " 'bottle_data\\\\train\\\\恒大冰泉\\\\0IMG_20181029_144154.jpg',\n",
       " 'bottle_data\\\\train\\\\昆仑山\\\\0IMG_4660.JPG',\n",
       " 'bottle_data\\\\train\\\\昆仑山\\\\0IMG_4663.JPG',\n",
       " 'bottle_data\\\\train\\\\昆仑山\\\\0IMG_4665.JPG',\n",
       " 'bottle_data\\\\train\\\\昆仑山\\\\0IMG_4671.JPG',\n",
       " 'bottle_data\\\\train\\\\昆仑山\\\\0IMG_4685.JPG',\n",
       " 'bottle_data\\\\train\\\\海之言\\\\0IMG_20181029_143641.jpg',\n",
       " 'bottle_data\\\\train\\\\海之言\\\\0IMG_20181029_143716.jpg',\n",
       " 'bottle_data\\\\train\\\\海之言\\\\0IMG_20181029_143721.jpg',\n",
       " 'bottle_data\\\\train\\\\海之言\\\\0IMG_20181029_143752.jpg',\n",
       " 'bottle_data\\\\train\\\\海之言\\\\4IMG_20181029_143901.jpg',\n",
       " 'bottle_data\\\\train\\\\爱夸\\\\0IMG_4305.JPG',\n",
       " 'bottle_data\\\\train\\\\爱夸\\\\0IMG_4324.JPG',\n",
       " 'bottle_data\\\\train\\\\爱夸\\\\0P81029-150806.jpg',\n",
       " 'bottle_data\\\\train\\\\爱夸\\\\0P81029-150851.jpg',\n",
       " 'bottle_data\\\\train\\\\爱夸\\\\0P81029-151204.jpg',\n",
       " 'bottle_data\\\\train\\\\王老吉瓶装\\\\0IMG_20181029_140031.jpg',\n",
       " 'bottle_data\\\\train\\\\王老吉瓶装\\\\0IMG_20181029_143803.jpg',\n",
       " 'bottle_data\\\\train\\\\王老吉瓶装\\\\0IMG_20181029_150428.jpg',\n",
       " 'bottle_data\\\\train\\\\王老吉瓶装\\\\0IMG_20181031_142208.jpg',\n",
       " 'bottle_data\\\\train\\\\王老吉瓶装\\\\1IMG_20181029_143758.jpg',\n",
       " 'bottle_data\\\\train\\\\百事可乐瓶装\\\\0IMG_4087.JPG',\n",
       " 'bottle_data\\\\train\\\\百事可乐瓶装\\\\0IMG_4089.JPG',\n",
       " 'bottle_data\\\\train\\\\百事可乐瓶装\\\\0IMG_4340.JPG',\n",
       " 'bottle_data\\\\train\\\\百事可乐瓶装\\\\0IMG_4375.JPG',\n",
       " 'bottle_data\\\\train\\\\百事可乐瓶装\\\\0IMG_4380.JPG',\n",
       " 'bottle_data\\\\train\\\\百岁山\\\\0IMG_3954.JPG',\n",
       " 'bottle_data\\\\train\\\\百岁山\\\\0IMG_3956.JPG',\n",
       " 'bottle_data\\\\train\\\\百岁山\\\\0IMG_4187.JPG',\n",
       " 'bottle_data\\\\train\\\\百岁山\\\\0IMG_4195.JPG',\n",
       " 'bottle_data\\\\train\\\\百岁山\\\\2IMG_3963.JPG',\n",
       " 'bottle_data\\\\train\\\\统一冰红茶\\\\0P81029-142833.jpg',\n",
       " 'bottle_data\\\\train\\\\统一冰红茶\\\\0P81031-143218.jpg',\n",
       " 'bottle_data\\\\train\\\\统一冰红茶\\\\0P81031-143229.jpg',\n",
       " 'bottle_data\\\\train\\\\统一冰红茶\\\\0P81031-143232.jpg',\n",
       " 'bottle_data\\\\train\\\\统一冰红茶\\\\0P81031-143320.jpg',\n",
       " 'bottle_data\\\\train\\\\统一阿萨姆奶茶\\\\0IMG_4936.JPG',\n",
       " 'bottle_data\\\\train\\\\统一阿萨姆奶茶\\\\0IMG_4937.JPG',\n",
       " 'bottle_data\\\\train\\\\统一阿萨姆奶茶\\\\0IMG_4938.JPG',\n",
       " 'bottle_data\\\\train\\\\统一阿萨姆奶茶\\\\0IMG_4939.JPG',\n",
       " 'bottle_data\\\\train\\\\统一阿萨姆奶茶\\\\0IMG_4953.JPG',\n",
       " 'bottle_data\\\\train\\\\美年达\\\\0IMG_3888.JPG',\n",
       " 'bottle_data\\\\train\\\\美年达\\\\0IMG_3893.JPG',\n",
       " 'bottle_data\\\\train\\\\美年达\\\\0IMG_3903.JPG',\n",
       " 'bottle_data\\\\train\\\\美年达\\\\0IMG_3906.JPG',\n",
       " 'bottle_data\\\\train\\\\美年达\\\\0IMG_3913.JPG',\n",
       " 'bottle_data\\\\train\\\\脉动\\\\0IMG_20181029_140346.jpg',\n",
       " 'bottle_data\\\\train\\\\脉动\\\\0IMG_20181029_140352.jpg',\n",
       " 'bottle_data\\\\train\\\\脉动\\\\0IMG_20181029_141804.jpg',\n",
       " 'bottle_data\\\\train\\\\脉动\\\\0IMG_20181029_143213.jpg',\n",
       " 'bottle_data\\\\train\\\\脉动\\\\0IMG_20181029_143219.jpg',\n",
       " 'bottle_data\\\\train\\\\茶n\\\\0IMG_3279.JPG',\n",
       " 'bottle_data\\\\train\\\\茶n\\\\0IMG_3294.JPG',\n",
       " 'bottle_data\\\\train\\\\茶n\\\\0IMG_3328.JPG',\n",
       " 'bottle_data\\\\train\\\\茶n\\\\0IMG_4362.JPG',\n",
       " 'bottle_data\\\\train\\\\茶n\\\\0IMG_4365.JPG',\n",
       " 'bottle_data\\\\train\\\\雀巢咖啡\\\\0IMG_20181029_142135.jpg',\n",
       " 'bottle_data\\\\train\\\\雀巢咖啡\\\\0IMG_20181029_143836.jpg',\n",
       " 'bottle_data\\\\train\\\\雀巢咖啡\\\\0IMG_20181029_145630.jpg',\n",
       " 'bottle_data\\\\train\\\\雀巢咖啡\\\\0IMG_4527.JPG',\n",
       " 'bottle_data\\\\train\\\\雀巢咖啡\\\\0IMG_4535.JPG',\n",
       " 'bottle_data\\\\train\\\\雅哈冰咖啡\\\\0IMG_20181031_145009.jpg',\n",
       " 'bottle_data\\\\train\\\\雅哈冰咖啡\\\\0IMG_5005.JPG',\n",
       " 'bottle_data\\\\train\\\\雅哈冰咖啡\\\\0IMG_5006.JPG',\n",
       " 'bottle_data\\\\train\\\\雅哈冰咖啡\\\\0IMG_5021.JPG',\n",
       " 'bottle_data\\\\train\\\\雅哈冰咖啡\\\\0IMG_5027.JPG',\n",
       " 'bottle_data\\\\train\\\\雪碧-纤维\\\\0IMG_4986.JPG',\n",
       " 'bottle_data\\\\train\\\\雪碧-纤维\\\\0IMG_4987.JPG',\n",
       " 'bottle_data\\\\train\\\\雪碧-纤维\\\\0IMG_4988.JPG',\n",
       " 'bottle_data\\\\train\\\\雪碧-纤维\\\\0IMG_5002.JPG',\n",
       " 'bottle_data\\\\train\\\\雪碧-纤维\\\\0P81031-141824.jpg',\n",
       " 'bottle_data\\\\train\\\\雪碧mini\\\\0IMG_3583.JPG',\n",
       " 'bottle_data\\\\train\\\\雪碧mini\\\\0IMG_3585.JPG',\n",
       " 'bottle_data\\\\train\\\\雪碧mini\\\\0IMG_3598.JPG',\n",
       " 'bottle_data\\\\train\\\\雪碧mini\\\\0IMG_3600.JPG',\n",
       " 'bottle_data\\\\train\\\\雪碧mini\\\\0IMG_3607.JPG',\n",
       " 'bottle_data\\\\train\\\\雪碧瓶装\\\\0P81029-142400.jpg',\n",
       " 'bottle_data\\\\train\\\\雪碧瓶装\\\\0P81029-142404.jpg',\n",
       " 'bottle_data\\\\train\\\\雪碧瓶装\\\\0P81029-142417.jpg',\n",
       " 'bottle_data\\\\train\\\\雪碧瓶装\\\\0P81029-142502.jpg',\n",
       " 'bottle_data\\\\train\\\\雪碧瓶装\\\\0P81029-142507.jpg',\n",
       " 'bottle_data\\\\train\\\\青岛啤酒大听装\\\\0IMG_20181029_140010.jpg',\n",
       " 'bottle_data\\\\train\\\\青岛啤酒大听装\\\\0IMG_20181029_150506.jpg',\n",
       " 'bottle_data\\\\train\\\\青岛啤酒大听装\\\\0P81031-150308.jpg',\n",
       " 'bottle_data\\\\train\\\\青岛啤酒大听装\\\\0P81031-150327.jpg',\n",
       " 'bottle_data\\\\train\\\\青岛啤酒大听装\\\\0P81031-150533.jpg',\n",
       " 'bottle_data\\\\train\\\\青岛啤酒小听装\\\\0IMG_4478.JPG',\n",
       " 'bottle_data\\\\train\\\\青岛啤酒小听装\\\\0IMG_4483.JPG',\n",
       " 'bottle_data\\\\train\\\\青岛啤酒小听装\\\\0IMG_4484.JPG',\n",
       " 'bottle_data\\\\train\\\\青岛啤酒小听装\\\\0IMG_4485.JPG',\n",
       " 'bottle_data\\\\train\\\\青岛啤酒小听装\\\\0IMG_4732.JPG']"
      ]
     },
     "execution_count": 131,
     "metadata": {},
     "output_type": "execute_result"
    }
   ],
   "source": [
    "train_data"
   ]
  },
  {
   "cell_type": "code",
   "execution_count": 136,
   "id": "german-greene",
   "metadata": {},
   "outputs": [],
   "source": [
    "import os\n",
    "def load_dict(path):\n",
    "    label_dict = {}\n",
    "    folder_lst = os.listdir(path)\n",
    "    for i, folder in enumerate(folder_lst):\n",
    "        label_dict[folder] = i\n",
    "    return label_dict"
   ]
  },
  {
   "cell_type": "code",
   "execution_count": 137,
   "id": "delayed-pharmacy",
   "metadata": {},
   "outputs": [],
   "source": [
    "labels_dict = load_dict(path)"
   ]
  },
  {
   "cell_type": "code",
   "execution_count": 138,
   "id": "classified-assets",
   "metadata": {
    "scrolled": true
   },
   "outputs": [
    {
     "data": {
      "text/plain": [
       "{'PLUS100': 0,\n",
       " '东方树叶乌龙茶': 1,\n",
       " '东鹏特饮': 2,\n",
       " '优益C': 3,\n",
       " '佳得乐': 4,\n",
       " '农夫山泉': 5,\n",
       " '农夫山泉小瓶': 6,\n",
       " '农夫果园': 7,\n",
       " '冰锐-粉': 8,\n",
       " '冰锐-紫': 9,\n",
       " '加多宝瓶装': 10,\n",
       " '可口可乐mini': 11,\n",
       " '可口可乐瓶装': 12,\n",
       " '可口可乐零度': 13,\n",
       " '娃哈哈AD钙奶': 14,\n",
       " '小明同学-青': 15,\n",
       " '小明同学-黄': 16,\n",
       " '尖叫': 17,\n",
       " '康师傅冰红茶': 18,\n",
       " '怡宝': 19,\n",
       " '恒大冰泉': 20,\n",
       " '昆仑山': 21,\n",
       " '海之言': 22,\n",
       " '爱夸': 23,\n",
       " '王老吉瓶装': 24,\n",
       " '百事可乐瓶装': 25,\n",
       " '百岁山': 26,\n",
       " '统一冰红茶': 27,\n",
       " '统一阿萨姆奶茶': 28,\n",
       " '美年达': 29,\n",
       " '脉动': 30,\n",
       " '茶n': 31,\n",
       " '雀巢咖啡': 32,\n",
       " '雅哈冰咖啡': 33,\n",
       " '雪碧-纤维': 34,\n",
       " '雪碧mini': 35,\n",
       " '雪碧瓶装': 36,\n",
       " '青岛啤酒大听装': 37,\n",
       " '青岛啤酒小听装': 38}"
      ]
     },
     "execution_count": 138,
     "metadata": {},
     "output_type": "execute_result"
    }
   ],
   "source": [
    "labels_dict"
   ]
  },
  {
   "cell_type": "markdown",
   "id": "explicit-password",
   "metadata": {},
   "source": [
    "# OTHER"
   ]
  },
  {
   "cell_type": "code",
   "execution_count": 53,
   "id": "accessible-fifty",
   "metadata": {},
   "outputs": [],
   "source": [
    "np.save(\"saved_features\\\\features_2048.npy\", arr)"
   ]
  },
  {
   "cell_type": "code",
   "execution_count": 15,
   "id": "industrial-arkansas",
   "metadata": {},
   "outputs": [],
   "source": [
    "f = np.load(\"saved_features\\\\features_2048.npy\")"
   ]
  },
  {
   "cell_type": "code",
   "execution_count": 7,
   "id": "mexican-election",
   "metadata": {},
   "outputs": [],
   "source": [
    "img = Image.open('bottle_data\\\\train\\\\PLUS100\\\\0P81031-144611.jpg')\n",
    "img_t = transform(img)"
   ]
  },
  {
   "cell_type": "code",
   "execution_count": 26,
   "id": "innocent-moral",
   "metadata": {},
   "outputs": [],
   "source": [
    "img_np = img_t.data.numpy()"
   ]
  },
  {
   "cell_type": "code",
   "execution_count": 27,
   "id": "social-product",
   "metadata": {},
   "outputs": [
    {
     "data": {
      "text/plain": [
       "(1327, 371, 3)"
      ]
     },
     "execution_count": 27,
     "metadata": {},
     "output_type": "execute_result"
    }
   ],
   "source": [
    "img_np.transpose(1,2,0).shape"
   ]
  },
  {
   "cell_type": "code",
   "execution_count": 28,
   "id": "initial-powder",
   "metadata": {},
   "outputs": [
    {
     "name": "stderr",
     "output_type": "stream",
     "text": [
      "Clipping input data to the valid range for imshow with RGB data ([0..1] for floats or [0..255] for integers).\n"
     ]
    },
    {
     "data": {
      "text/plain": [
       "<matplotlib.image.AxesImage at 0x1fe32417e50>"
      ]
     },
     "execution_count": 28,
     "metadata": {},
     "output_type": "execute_result"
    },
    {
     "data": {
      "image/png": "[encoded data removed]",
      "text/plain": [
       "<Figure size 432x288 with 1 Axes>"
      ]
     },
     "metadata": {
      "needs_background": "light"
     },
     "output_type": "display_data"
    }
   ],
   "source": [
    "plt.imshow(img_np.transpose(1,2,0))"
   ]
  },
  {
   "cell_type": "code",
   "execution_count": 8,
   "id": "adapted-humanitarian",
   "metadata": {},
   "outputs": [
    {
     "name": "stdout",
     "output_type": "stream",
     "text": [
      "torch.Size([1, 3, 1327, 371])\n",
      "torch.Size([1, 1000])\n",
      "737: 'pop bottle, soda bottle', 10.845508575439453\n",
      "forward\n"
     ]
    }
   ],
   "source": [
    "batch_t = torch.unsqueeze(img_t, 0)\n",
    "print(batch_t.shape)\n",
    "#预测\n",
    "net.eval()\n",
    "out = net(batch_t)\n",
    "print(out.shape)\n",
    "_, index = torch.max(out, 1)\n",
    "\n",
    "#标签\n",
    "with open('labels.txt') as f:\n",
    "    classes = [line.strip() for line in f.readlines()]\n",
    "#\n",
    "percentage = torch.nn.functional.softmax(out, dim=1)[0] * 100\n",
    "print(classes[index[0]], percentage[index[0]].item())\n",
    "#\n",
    "extract_result = FeatureExtractor(net, extract_list)\n",
    "\n",
    "result = extract_result(batch_t)"
   ]
  },
  {
   "cell_type": "code",
   "execution_count": 18,
   "id": "handed-athens",
   "metadata": {},
   "outputs": [],
   "source": [
    "feat_2048 = result[2].data.numpy() #avgpool\n",
    "feat_2048 = np.squeeze(feat_2048)"
   ]
  },
  {
   "cell_type": "code",
   "execution_count": 19,
   "id": "awful-method",
   "metadata": {},
   "outputs": [
    {
     "data": {
      "text/plain": [
       "(2048,)"
      ]
     },
     "execution_count": 19,
     "metadata": {},
     "output_type": "execute_result"
    }
   ],
   "source": [
    "feat_2048.shape"
   ]
  },
  {
   "cell_type": "markdown",
   "id": "running-google",
   "metadata": {},
   "source": [
    "# 特征可视化"
   ]
  },
  {
   "cell_type": "code",
   "execution_count": 42,
   "id": "great-repair",
   "metadata": {},
   "outputs": [],
   "source": [
    "feat = result[1].data.numpy()\n",
    "feat = np.squeeze(feat)"
   ]
  },
  {
   "cell_type": "code",
   "execution_count": 43,
   "id": "appointed-department",
   "metadata": {},
   "outputs": [
    {
     "data": {
      "text/plain": [
       "(256, 332, 93)"
      ]
     },
     "execution_count": 43,
     "metadata": {},
     "output_type": "execute_result"
    }
   ],
   "source": [
    "feat.shape"
   ]
  },
  {
   "cell_type": "code",
   "execution_count": 44,
   "id": "initial-standing",
   "metadata": {},
   "outputs": [
    {
     "data": {
      "text/plain": [
       "<matplotlib.image.AxesImage at 0x1fe01bfec70>"
      ]
     },
     "execution_count": 44,
     "metadata": {},
     "output_type": "execute_result"
    },
    {
     "data": {
      "image/png": "[encoded data removed]",
      "text/plain": [
       "<Figure size 432x288 with 1 Axes>"
      ]
     },
     "metadata": {
      "needs_background": "light"
     },
     "output_type": "display_data"
    }
   ],
   "source": [
    "plt.imshow(feat[6,:,:], cmap='gray')"
   ]
  },
  {
   "cell_type": "code",
   "execution_count": 45,
   "id": "spectacular-parcel",
   "metadata": {},
   "outputs": [
    {
     "data": {
      "image/png": "[encoded data removed]",
      "text/plain": [
       "<Figure size 792x432 with 64 Axes>"
      ]
     },
     "metadata": {
      "needs_background": "light"
     },
     "output_type": "display_data"
    }
   ],
   "source": [
    "plt.figure(figsize=(11,6))\n",
    "for ii in range(64):\n",
    "    plt.subplot(6, 11, ii+1)\n",
    "    plt.imshow(feat[ii,:,:], cmap='gray')\n",
    "    plt.axis('off')\n",
    "plt.subplots_adjust(wspace=0.1, hspace=0.1)\n",
    "plt.show()"
   ]
  },
  {
   "cell_type": "code",
   "execution_count": null,
   "id": "ordinary-copper",
   "metadata": {},
   "outputs": [],
   "source": []
  }
 ],
 "metadata": {
  "kernelspec": {
   "display_name": "Python 3",
   "language": "python",
   "name": "python3"
  },
  "language_info": {
   "codemirror_mode": {
    "name": "ipython",
    "version": 3
   },
   "file_extension": ".py",
   "mimetype": "text/x-python",
   "name": "python",
   "nbconvert_exporter": "python",
   "pygments_lexer": "ipython3",
   "version": "3.8.8"
  }
 },
 "nbformat": 4,
 "nbformat_minor": 5
}
